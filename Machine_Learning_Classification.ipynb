{
 "cells": [
  {
   "cell_type": "markdown",
   "metadata": {},
   "source": [
    "# <center> Machine Learning Classification"
   ]
  },
  {
   "cell_type": "markdown",
   "metadata": {},
   "source": [
    "## MNIST Dataset Machine Learning Binary Classification\n",
    "Jupyter notebook is very popular for Machine Learning Project. Below, we will show how data scientis can conduct Machine Learning project in Jupyter notebook. The followings are the typical steps of Machine Learning project.  This project will follow the below steps to find the best models for the problems.  \n",
    "1. [Obtain the data](#1.-Obtain-the-data)\n",
    "2. [Review and visualize the data](#2.-Review-and-Visualize-the-data)\n",
    "3. [Preprocess the data](#3.-Preprocess-the-data)\n",
    "4. [Prepare train and test data](#4.-Prepare-train-and-test-data)\n",
    "5. [Pick the algorithm](#5.-Pick-the-algorithm)\n",
    "6. [Train the model](#6.-Train-the-model)\n",
    "7. [Predict with the trained model](#7.-Predict-with-the-trained-model)"
   ]
  },
  {
   "cell_type": "markdown",
   "metadata": {},
   "source": [
    "The data scientist can prepare test and train data.  And, the data scientist will pick the the alrgorithm and train the model with the trained data.  Here, we pick the simple SGDClassifier, but the data scientist can pick other model like Support Vector Machine, Deep Neural Network and Convolutional Neural Network. "
   ]
  },
  {
   "cell_type": "code",
   "execution_count": 1,
   "metadata": {},
   "outputs": [],
   "source": [
    "## Show plotting in Jupyter notebook\n",
    "%matplotlib inline "
   ]
  },
  {
   "cell_type": "markdown",
   "metadata": {},
   "source": [
    "### 1. Obtain the data\n",
    "The data is image data from 0 to 9 from MNST dataset. \n",
    "The data scientis obtains the data from Machine Learning Training data: sklearn.datasets. Using the data, the data scientist will find the best model to predit the image. "
   ]
  },
  {
   "cell_type": "code",
   "execution_count": 2,
   "metadata": {},
   "outputs": [],
   "source": [
    "### import MNST datasets using sklearn API\n",
    "from sklearn.datasets import fetch_mldata"
   ]
  },
  {
   "cell_type": "markdown",
   "metadata": {},
   "source": [
    "### 2. Review and Visualize the data"
   ]
  },
  {
   "cell_type": "code",
   "execution_count": 3,
   "metadata": {},
   "outputs": [
    {
     "name": "stdout",
     "output_type": "stream",
     "text": [
      "Review of Data\n",
      "{'DESCR': 'mldata.org dataset: mnist-original', 'COL_NAMES': ['label', 'data'], 'target': array([0., 0., 0., ..., 9., 9., 9.]), 'data': array([[0, 0, 0, ..., 0, 0, 0],\n",
      "       [0, 0, 0, ..., 0, 0, 0],\n",
      "       [0, 0, 0, ..., 0, 0, 0],\n",
      "       ...,\n",
      "       [0, 0, 0, ..., 0, 0, 0],\n",
      "       [0, 0, 0, ..., 0, 0, 0],\n",
      "       [0, 0, 0, ..., 0, 0, 0]], dtype=uint8)}\n"
     ]
    }
   ],
   "source": [
    "mnist = fetch_mldata('MNIST original')\n",
    "print('Review of Data')\n",
    "print(mnist)"
   ]
  },
  {
   "cell_type": "markdown",
   "metadata": {},
   "source": [
    "### 3. Preprocess the data"
   ]
  },
  {
   "cell_type": "code",
   "execution_count": 4,
   "metadata": {},
   "outputs": [
    {
     "name": "stdout",
     "output_type": "stream",
     "text": [
      "Shape of X data:  (70000, 784)\n",
      "Shape of y data:  (70000,)\n",
      "Sample X data (image) is\n"
     ]
    },
    {
     "data": {
      "image/png": "[encoded data removed]",
      "text/plain": [
       "<matplotlib.figure.Figure at 0x95438d0>"
      ]
     },
     "metadata": {},
     "output_type": "display_data"
    },
    {
     "name": "stdout",
     "output_type": "stream",
     "text": [
      "Sample y data is 0.0\n"
     ]
    }
   ],
   "source": [
    "### prepare X and Y dataset\n",
    "X, y = mnist[\"data\"], mnist[\"target\"]\n",
    "print('Shape of X data: ', X.shape)\n",
    "print('Shape of y data: ', y.shape)\n",
    "\n",
    "### Pick one image and reshape to 28 by 28 for image\n",
    "digit_image1 = X[1200].reshape(28, 28)\n",
    "print('Sample X data (image) is')\n",
    "\n",
    "### Import matplotlib for data visualization\n",
    "import matplotlib\n",
    "import matplotlib.pyplot as plt\n",
    "\n",
    "### Show that image\n",
    "plt.imshow(digit_image1, cmap = matplotlib.cm.binary, interpolation=\"nearest\")\n",
    "plt.axis(\"off\") ## remove the outside frame\n",
    "plt.show() # show plot\n",
    "\n",
    "print(\"Sample y data is\", y[1200])"
   ]
  },
  {
   "cell_type": "markdown",
   "metadata": {},
   "source": [
    "### 4. Prepare train and test data"
   ]
  },
  {
   "cell_type": "code",
   "execution_count": 5,
   "metadata": {},
   "outputs": [],
   "source": [
    "### Prepare test and train data\n",
    "from sklearn.model_selection import train_test_split ## split function\n",
    "X_train, X_test, y_train, y_test = train_test_split(X, y, test_size=0.2, random_state=42)  ## test is 20% and train is 80%."
   ]
  },
  {
   "cell_type": "markdown",
   "metadata": {},
   "source": [
    "### 5. Pick the algorithm\n",
    "Here, the data scientist picks up linear Classifier with SGD training. "
   ]
  },
  {
   "cell_type": "code",
   "execution_count": 6,
   "metadata": {},
   "outputs": [],
   "source": [
    "### import the algorithm\n",
    "from sklearn.linear_model import SGDClassifier"
   ]
  },
  {
   "cell_type": "markdown",
   "metadata": {},
   "source": [
    "### 6. Train the model"
   ]
  },
  {
   "cell_type": "code",
   "execution_count": 7,
   "metadata": {},
   "outputs": [
    {
     "data": {
      "text/plain": [
       "SGDClassifier(alpha=0.0001, average=False, class_weight=None, epsilon=0.1,\n",
       "       eta0=0.0, fit_intercept=True, l1_ratio=0.15,\n",
       "       learning_rate='optimal', loss='hinge', max_iter=5, n_iter=None,\n",
       "       n_jobs=1, penalty='l2', power_t=0.5, random_state=42, shuffle=True,\n",
       "       tol=None, verbose=0, warm_start=False)"
      ]
     },
     "execution_count": 7,
     "metadata": {},
     "output_type": "execute_result"
    }
   ],
   "source": [
    "### Train the model\n",
    "sgd_clf = SGDClassifier(max_iter=5, random_state=42)\n",
    "sgd_clf.fit(X_train, y_train)"
   ]
  },
  {
   "cell_type": "markdown",
   "metadata": {},
   "source": [
    "The data scientis can validate the accuracy of the trained model.  Here is the average of accuracy is aboutt 87%, which is not that bad. More advanced model like CNN can provide better accuracy. "
   ]
  },
  {
   "cell_type": "code",
   "execution_count": 8,
   "metadata": {},
   "outputs": [
    {
     "name": "stdout",
     "output_type": "stream",
     "text": [
      "Accuracy of Training data :  [0.87686127 0.87126326 0.84735319]\n",
      "Accuracy of Test data: [0.85628614 0.88303342 0.85545786]\n"
     ]
    }
   ],
   "source": [
    "### Validate the accuracy\n",
    "from sklearn.model_selection import cross_val_score\n",
    "print('Accuracy of Training data : ', cross_val_score(sgd_clf, X_train, y_train, cv=3, scoring=\"accuracy\"))  ### With train data \n",
    "print('Accuracy of Test data:', cross_val_score(sgd_clf, X_test, y_test, cv=3, scoring=\"accuracy\"))  ### With test data"
   ]
  },
  {
   "cell_type": "markdown",
   "metadata": {},
   "source": [
    "### 7. Predict with the trained model\n",
    "With the trained model, the data scientist can predit the result of the test data."
   ]
  },
  {
   "cell_type": "code",
   "execution_count": 9,
   "metadata": {},
   "outputs": [
    {
     "name": "stdout",
     "output_type": "stream",
     "text": [
      "predicted y value:  [7.]\n",
      "actual y value:  7.0\n"
     ]
    }
   ],
   "source": [
    "print('predicted y value: ', sgd_clf.predict([X_test[111]]))\n",
    "print('actual y value: ', y_test[111])"
   ]
  },
  {
   "cell_type": "markdown",
   "metadata": {},
   "source": [
    "## The same algorithm, but different hyperparameters\n",
    "Change hyperparameters by normalizing input data"
   ]
  },
  {
   "cell_type": "code",
   "execution_count": 10,
   "metadata": {},
   "outputs": [
    {
     "name": "stdout",
     "output_type": "stream",
     "text": [
      "Accuracy of Normalized Training data :  [0.87986074 0.89071038 0.87124946]\n",
      "Accuracy of Normalized Test data :  [0.87063611 0.87296487 0.85717349]\n"
     ]
    }
   ],
   "source": [
    "### Prepare test and train data\n",
    "X2 = X/255  # normalizing data\n",
    "X2_train, X2_test, y2_train, y2_test = train_test_split(X2, y, test_size=0.2, random_state=42)\n",
    "\n",
    "### import the algorithm\n",
    "from sklearn.linear_model import SGDClassifier\n",
    "\n",
    "### Train the model\n",
    "sgd_clf2 = SGDClassifier(max_iter=5, random_state=42)\n",
    "sgd_clf2.fit(X2_train, y2_train)\n",
    "\n",
    "### Validate the accuracy\n",
    "print('Accuracy of Normalized Training data : ', cross_val_score(sgd_clf2, X2_train, y2_train, cv=3, scoring=\"accuracy\"))  ### With train data \n",
    "print('Accuracy of Normalized Test data : ', cross_val_score(sgd_clf2, X2_test, y2_test, cv=3, scoring=\"accuracy\"))  ### With test data"
   ]
  },
  {
   "cell_type": "code",
   "execution_count": null,
   "metadata": {},
   "outputs": [],
   "source": []
  }
 ],
 "metadata": {
  "anaconda-cloud": {},
  "kernelspec": {
   "display_name": "Python 3",
   "language": "python",
   "name": "python3"
  },
  "language_info": {
   "codemirror_mode": {
    "name": "ipython",
    "version": 3
   },
   "file_extension": ".py",
   "mimetype": "text/x-python",
   "name": "python",
   "nbconvert_exporter": "python",
   "pygments_lexer": "ipython3",
   "version": "3.6.4"
  }
 },
 "nbformat": 4,
 "nbformat_minor": 1
}
